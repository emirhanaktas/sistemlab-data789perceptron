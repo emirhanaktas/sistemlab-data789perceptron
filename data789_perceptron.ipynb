{
  "nbformat": 4,
  "nbformat_minor": 0,
  "metadata": {
    "colab": {
      "name": "data789_perceptron.ipynb",
      "provenance": [],
      "collapsed_sections": [],
      "include_colab_link": true
    },
    "kernelspec": {
      "name": "python3",
      "display_name": "Python 3"
    },
    "language_info": {
      "name": "python"
    }
  },
  "cells": [
    {
      "cell_type": "markdown",
      "metadata": {
        "id": "view-in-github",
        "colab_type": "text"
      },
      "source": [
        "<a href=\"https://colab.research.google.com/github/emirhanaktas/sistemlab-data789perceptron/blob/main/data789_perceptron.ipynb\" target=\"_parent\"><img src=\"https://colab.research.google.com/assets/colab-badge.svg\" alt=\"Open In Colab\"/></a>"
      ]
    },
    {
      "cell_type": "code",
      "source": [
        "import matplotlib.pyplot as plt\n",
        "import numpy as np\n",
        "import pandas"
      ],
      "metadata": {
        "id": "8MkfMisUP8f6"
      },
      "execution_count": null,
      "outputs": []
    },
    {
      "cell_type": "code",
      "source": [
        "df = pandas.read_csv('https://raw.githubusercontent.com/irhallac/SisLab/main/hw_data/data_789.csv', header=None)\n"
      ],
      "metadata": {
        "id": "4_l_FEMbeOf7"
      },
      "execution_count": null,
      "outputs": []
    },
    {
      "cell_type": "code",
      "source": [
        "df"
      ],
      "metadata": {
        "colab": {
          "base_uri": "https://localhost:8080/",
          "height": 424
        },
        "id": "fsuKdFYTX93Y",
        "outputId": "afff3e05-9f32-4870-e4ef-9287ae80956f"
      },
      "execution_count": null,
      "outputs": [
        {
          "output_type": "execute_result",
          "data": {
            "text/html": [
              "\n",
              "  <div id=\"df-fa7f8c6c-87d0-43a2-ba08-ea954e320194\">\n",
              "    <div class=\"colab-df-container\">\n",
              "      <div>\n",
              "<style scoped>\n",
              "    .dataframe tbody tr th:only-of-type {\n",
              "        vertical-align: middle;\n",
              "    }\n",
              "\n",
              "    .dataframe tbody tr th {\n",
              "        vertical-align: top;\n",
              "    }\n",
              "\n",
              "    .dataframe thead th {\n",
              "        text-align: right;\n",
              "    }\n",
              "</style>\n",
              "<table border=\"1\" class=\"dataframe\">\n",
              "  <thead>\n",
              "    <tr style=\"text-align: right;\">\n",
              "      <th></th>\n",
              "      <th>0</th>\n",
              "      <th>1</th>\n",
              "      <th>2</th>\n",
              "      <th>3</th>\n",
              "      <th>4</th>\n",
              "      <th>5</th>\n",
              "      <th>6</th>\n",
              "      <th>7</th>\n",
              "      <th>8</th>\n",
              "    </tr>\n",
              "  </thead>\n",
              "  <tbody>\n",
              "    <tr>\n",
              "      <th>0</th>\n",
              "      <td>NaN</td>\n",
              "      <td>ozellik-1</td>\n",
              "      <td>ozellik-2</td>\n",
              "      <td>ozellik-3</td>\n",
              "      <td>ozellik-4</td>\n",
              "      <td>ozellik-5</td>\n",
              "      <td>ozellik-6</td>\n",
              "      <td>ozellik-7</td>\n",
              "      <td>cikis</td>\n",
              "    </tr>\n",
              "    <tr>\n",
              "      <th>1</th>\n",
              "      <td>0.0</td>\n",
              "      <td>-1.4080093652163415</td>\n",
              "      <td>-7.6656452619446025</td>\n",
              "      <td>-7.238232614974349</td>\n",
              "      <td>8.27005204886454</td>\n",
              "      <td>2.316332076510735</td>\n",
              "      <td>7.78069725994181</td>\n",
              "      <td>8.746140758288522</td>\n",
              "      <td>1</td>\n",
              "    </tr>\n",
              "    <tr>\n",
              "      <th>2</th>\n",
              "      <td>1.0</td>\n",
              "      <td>-2.3607238576457528</td>\n",
              "      <td>9.518346596580436</td>\n",
              "      <td>1.8483606179808003</td>\n",
              "      <td>9.62115643470663</td>\n",
              "      <td>-8.37008940851254</td>\n",
              "      <td>1.6157250616275787</td>\n",
              "      <td>7.208178980641894</td>\n",
              "      <td>0</td>\n",
              "    </tr>\n",
              "    <tr>\n",
              "      <th>3</th>\n",
              "      <td>2.0</td>\n",
              "      <td>-3.6768645865711664</td>\n",
              "      <td>9.766196950795905</td>\n",
              "      <td>0.8032334518724678</td>\n",
              "      <td>7.475693012048605</td>\n",
              "      <td>-8.519747478526474</td>\n",
              "      <td>4.371835533376637</td>\n",
              "      <td>5.475342832122751</td>\n",
              "      <td>0</td>\n",
              "    </tr>\n",
              "    <tr>\n",
              "      <th>4</th>\n",
              "      <td>3.0</td>\n",
              "      <td>-3.5360115449773155</td>\n",
              "      <td>7.943393253823311</td>\n",
              "      <td>2.466308517360952</td>\n",
              "      <td>7.327269280782561</td>\n",
              "      <td>-8.002647507690526</td>\n",
              "      <td>2.893346486968285</td>\n",
              "      <td>6.109700648700899</td>\n",
              "      <td>0</td>\n",
              "    </tr>\n",
              "    <tr>\n",
              "      <th>...</th>\n",
              "      <td>...</td>\n",
              "      <td>...</td>\n",
              "      <td>...</td>\n",
              "      <td>...</td>\n",
              "      <td>...</td>\n",
              "      <td>...</td>\n",
              "      <td>...</td>\n",
              "      <td>...</td>\n",
              "      <td>...</td>\n",
              "    </tr>\n",
              "    <tr>\n",
              "      <th>138</th>\n",
              "      <td>137.0</td>\n",
              "      <td>-4.2828928159065995</td>\n",
              "      <td>9.610162187361816</td>\n",
              "      <td>1.1204592530576047</td>\n",
              "      <td>7.917081727180424</td>\n",
              "      <td>-6.93999247648068</td>\n",
              "      <td>6.1208119781494705</td>\n",
              "      <td>4.27027460709047</td>\n",
              "      <td>0</td>\n",
              "    </tr>\n",
              "    <tr>\n",
              "      <th>139</th>\n",
              "      <td>138.0</td>\n",
              "      <td>-0.49861610166772463</td>\n",
              "      <td>-8.679843404948713</td>\n",
              "      <td>-10.801956967184243</td>\n",
              "      <td>8.672718658806925</td>\n",
              "      <td>3.7473853639137893</td>\n",
              "      <td>7.374688422411102</td>\n",
              "      <td>11.400780726988502</td>\n",
              "      <td>1</td>\n",
              "    </tr>\n",
              "    <tr>\n",
              "      <th>140</th>\n",
              "      <td>139.0</td>\n",
              "      <td>-2.500175785722042</td>\n",
              "      <td>-7.915534378731315</td>\n",
              "      <td>-6.377663194153808</td>\n",
              "      <td>7.059154817380378</td>\n",
              "      <td>3.5377739302046507</td>\n",
              "      <td>6.958497655165187</td>\n",
              "      <td>8.028975801492967</td>\n",
              "      <td>1</td>\n",
              "    </tr>\n",
              "    <tr>\n",
              "      <th>141</th>\n",
              "      <td>140.0</td>\n",
              "      <td>-2.939196147021269</td>\n",
              "      <td>10.093756985699981</td>\n",
              "      <td>0.27979067121290424</td>\n",
              "      <td>9.513667229485844</td>\n",
              "      <td>-8.557074490770898</td>\n",
              "      <td>2.188721060308475</td>\n",
              "      <td>6.379760417603098</td>\n",
              "      <td>0</td>\n",
              "    </tr>\n",
              "    <tr>\n",
              "      <th>142</th>\n",
              "      <td>141.0</td>\n",
              "      <td>-3.26251606248002</td>\n",
              "      <td>-7.744204542274318</td>\n",
              "      <td>-7.214319157387278</td>\n",
              "      <td>8.790517592118007</td>\n",
              "      <td>3.638784783065677</td>\n",
              "      <td>7.315731729918048</td>\n",
              "      <td>8.117473507323892</td>\n",
              "      <td>1</td>\n",
              "    </tr>\n",
              "  </tbody>\n",
              "</table>\n",
              "<p>143 rows × 9 columns</p>\n",
              "</div>\n",
              "      <button class=\"colab-df-convert\" onclick=\"convertToInteractive('df-fa7f8c6c-87d0-43a2-ba08-ea954e320194')\"\n",
              "              title=\"Convert this dataframe to an interactive table.\"\n",
              "              style=\"display:none;\">\n",
              "        \n",
              "  <svg xmlns=\"http://www.w3.org/2000/svg\" height=\"24px\"viewBox=\"0 0 24 24\"\n",
              "       width=\"24px\">\n",
              "    <path d=\"M0 0h24v24H0V0z\" fill=\"none\"/>\n",
              "    <path d=\"M18.56 5.44l.94 2.06.94-2.06 2.06-.94-2.06-.94-.94-2.06-.94 2.06-2.06.94zm-11 1L8.5 8.5l.94-2.06 2.06-.94-2.06-.94L8.5 2.5l-.94 2.06-2.06.94zm10 10l.94 2.06.94-2.06 2.06-.94-2.06-.94-.94-2.06-.94 2.06-2.06.94z\"/><path d=\"M17.41 7.96l-1.37-1.37c-.4-.4-.92-.59-1.43-.59-.52 0-1.04.2-1.43.59L10.3 9.45l-7.72 7.72c-.78.78-.78 2.05 0 2.83L4 21.41c.39.39.9.59 1.41.59.51 0 1.02-.2 1.41-.59l7.78-7.78 2.81-2.81c.8-.78.8-2.07 0-2.86zM5.41 20L4 18.59l7.72-7.72 1.47 1.35L5.41 20z\"/>\n",
              "  </svg>\n",
              "      </button>\n",
              "      \n",
              "  <style>\n",
              "    .colab-df-container {\n",
              "      display:flex;\n",
              "      flex-wrap:wrap;\n",
              "      gap: 12px;\n",
              "    }\n",
              "\n",
              "    .colab-df-convert {\n",
              "      background-color: #E8F0FE;\n",
              "      border: none;\n",
              "      border-radius: 50%;\n",
              "      cursor: pointer;\n",
              "      display: none;\n",
              "      fill: #1967D2;\n",
              "      height: 32px;\n",
              "      padding: 0 0 0 0;\n",
              "      width: 32px;\n",
              "    }\n",
              "\n",
              "    .colab-df-convert:hover {\n",
              "      background-color: #E2EBFA;\n",
              "      box-shadow: 0px 1px 2px rgba(60, 64, 67, 0.3), 0px 1px 3px 1px rgba(60, 64, 67, 0.15);\n",
              "      fill: #174EA6;\n",
              "    }\n",
              "\n",
              "    [theme=dark] .colab-df-convert {\n",
              "      background-color: #3B4455;\n",
              "      fill: #D2E3FC;\n",
              "    }\n",
              "\n",
              "    [theme=dark] .colab-df-convert:hover {\n",
              "      background-color: #434B5C;\n",
              "      box-shadow: 0px 1px 3px 1px rgba(0, 0, 0, 0.15);\n",
              "      filter: drop-shadow(0px 1px 2px rgba(0, 0, 0, 0.3));\n",
              "      fill: #FFFFFF;\n",
              "    }\n",
              "  </style>\n",
              "\n",
              "      <script>\n",
              "        const buttonEl =\n",
              "          document.querySelector('#df-fa7f8c6c-87d0-43a2-ba08-ea954e320194 button.colab-df-convert');\n",
              "        buttonEl.style.display =\n",
              "          google.colab.kernel.accessAllowed ? 'block' : 'none';\n",
              "\n",
              "        async function convertToInteractive(key) {\n",
              "          const element = document.querySelector('#df-fa7f8c6c-87d0-43a2-ba08-ea954e320194');\n",
              "          const dataTable =\n",
              "            await google.colab.kernel.invokeFunction('convertToInteractive',\n",
              "                                                     [key], {});\n",
              "          if (!dataTable) return;\n",
              "\n",
              "          const docLinkHtml = 'Like what you see? Visit the ' +\n",
              "            '<a target=\"_blank\" href=https://colab.research.google.com/notebooks/data_table.ipynb>data table notebook</a>'\n",
              "            + ' to learn more about interactive tables.';\n",
              "          element.innerHTML = '';\n",
              "          dataTable['output_type'] = 'display_data';\n",
              "          await google.colab.output.renderOutput(dataTable, element);\n",
              "          const docLink = document.createElement('div');\n",
              "          docLink.innerHTML = docLinkHtml;\n",
              "          element.appendChild(docLink);\n",
              "        }\n",
              "      </script>\n",
              "    </div>\n",
              "  </div>\n",
              "  "
            ],
            "text/plain": [
              "         0                     1  ...                   7      8\n",
              "0      NaN             ozellik-1  ...           ozellik-7  cikis\n",
              "1      0.0   -1.4080093652163415  ...   8.746140758288522      1\n",
              "2      1.0   -2.3607238576457528  ...   7.208178980641894      0\n",
              "3      2.0   -3.6768645865711664  ...   5.475342832122751      0\n",
              "4      3.0   -3.5360115449773155  ...   6.109700648700899      0\n",
              "..     ...                   ...  ...                 ...    ...\n",
              "138  137.0   -4.2828928159065995  ...    4.27027460709047      0\n",
              "139  138.0  -0.49861610166772463  ...  11.400780726988502      1\n",
              "140  139.0    -2.500175785722042  ...   8.028975801492967      1\n",
              "141  140.0    -2.939196147021269  ...   6.379760417603098      0\n",
              "142  141.0     -3.26251606248002  ...   8.117473507323892      1\n",
              "\n",
              "[143 rows x 9 columns]"
            ]
          },
          "metadata": {},
          "execution_count": 4
        }
      ]
    },
    {
      "cell_type": "code",
      "source": [
        "cikis = df.iloc[1:100, 8].values #1 ile 100 elemanı alarak 8 özelliği verdik. \n",
        "giris = df.iloc[1:100, [2, 3, 7]].values # 2,3 ve 7. özellikleri giris olarak belirledik.\n",
        "\n",
        "giris = giris.astype(float) #bize gelen degerler string olduğu için float'a dönüştürdük.\n",
        "cikis = cikis.astype(float)"
      ],
      "metadata": {
        "id": "CWVfaaGYeYbV"
      },
      "execution_count": 41,
      "outputs": []
    },
    {
      "cell_type": "code",
      "source": [
        "plt.title('2D görünüm', fontsize=16)\n",
        "\n",
        "plt.scatter(giris[:50, 0], giris[:50, 1], color='black', marker='o', label='setosa')\n",
        "plt.scatter(giris[50:100, 0], giris[50:100, -1], color='green', marker='x', label='versicolor')\n",
        "plt.xlabel('sapel length')\n",
        "plt.ylabel('petal length')\n",
        "plt.legend(loc='upper left')\n",
        "\n",
        "plt.show()"
      ],
      "metadata": {
        "colab": {
          "base_uri": "https://localhost:8080/",
          "height": 297
        },
        "id": "0BmGhWo5etKL",
        "outputId": "69ef73ec-c594-4316-dc38-ba2268a37756"
      },
      "execution_count": 42,
      "outputs": [
        {
          "output_type": "display_data",
          "data": {
            "image/png": "[encoded data removed]",
            "text/plain": [
              "<Figure size 432x288 with 1 Axes>"
            ]
          },
          "metadata": {
            "needs_background": "light"
          }
        }
      ]
    },
    {
      "cell_type": "code",
      "source": [
        "class Perceptron(object): \n",
        "    def __init__(self, ogrenme_orani=0.1, iter_sayisi=10):\n",
        "        self.ogrenme_orani = ogrenme_orani\n",
        "        self.iter_sayisi = iter_sayisi\n",
        "\n",
        "        #ogrenme oranı ve iterasyon sayisini atadık.\n",
        "\n",
        "    def ogren(self, X, y):\n",
        "        self.w = np.zeros(1 + X.shape[1])\n",
        "        #ağırlık değerleri ve bias değerleri belirlenir.\n",
        "        self.hatalar = []\n",
        "        for _ in range(self.iter_sayisi):\n",
        "            hata = 0\n",
        "            for xi, hedef in zip(X, y):\n",
        "                degisim = self.ogrenme_orani * (hedef - self.tahmin(xi))\n",
        "                self.w[1:] += degisim * xi\n",
        "                self.w[0] += degisim\n",
        "                hata += int(degisim != 0.0)\n",
        "            self.hatalar.append(hata)\n",
        "        return self\n",
        "\n",
        "    def net_input(self, X):\n",
        "        return np.dot(X, self.w[1:]) + self.w[0]\n",
        "\n",
        "    def tahmin(self, x):\n",
        "        return np.where(self.net_input(x) >= 0.0, 1, 0) # çıkış değerlerimiz 0-1 olduğundan dolayı"
      ],
      "metadata": {
        "id": "N8F1p5oLsYgw"
      },
      "execution_count": 58,
      "outputs": []
    },
    {
      "cell_type": "code",
      "source": [
        "siniflandirici = Perceptron(ogrenme_orani=0.1, iter_sayisi=10) #siniflandiricimiza öğrenme oranı ve iterasyon sayısını verdik."
      ],
      "metadata": {
        "id": "CZa2cksXUiUm"
      },
      "execution_count": 59,
      "outputs": []
    },
    {
      "cell_type": "code",
      "source": [
        "siniflandirici.ogren(giris, cikis)"
      ],
      "metadata": {
        "colab": {
          "base_uri": "https://localhost:8080/"
        },
        "id": "-aa08KLVeMGS",
        "outputId": "a6f241d3-5a37-4182-e9af-c806d9f58b37"
      },
      "execution_count": 60,
      "outputs": [
        {
          "output_type": "execute_result",
          "data": {
            "text/plain": [
              "<__main__.Perceptron at 0x7f0f6f284bd0>"
            ]
          },
          "metadata": {},
          "execution_count": 60
        }
      ]
    },
    {
      "cell_type": "code",
      "source": [
        "siniflandirici.w\n",
        "     "
      ],
      "metadata": {
        "colab": {
          "base_uri": "https://localhost:8080/"
        },
        "id": "meG_94siYJOT",
        "outputId": "740ebb7a-a1b4-4b2e-c278-a88a3ff94eb0"
      },
      "execution_count": 61,
      "outputs": [
        {
          "output_type": "execute_result",
          "data": {
            "text/plain": [
              "array([ 0.        , -1.58843964, -1.20818769,  0.38088753])"
            ]
          },
          "metadata": {},
          "execution_count": 61
        }
      ]
    },
    {
      "cell_type": "code",
      "source": [
        "siniflandirici.hatalar # 1. iterasyondan sonra hata değerimiz 0'a indi."
      ],
      "metadata": {
        "colab": {
          "base_uri": "https://localhost:8080/"
        },
        "id": "as2BEjs-YKx5",
        "outputId": "057d1e60-9e5b-4ee8-92cd-a9b1cc9ec303"
      },
      "execution_count": 65,
      "outputs": [
        {
          "output_type": "execute_result",
          "data": {
            "text/plain": [
              "[2, 0, 0, 0, 0, 0, 0, 0, 0, 0]"
            ]
          },
          "metadata": {},
          "execution_count": 65
        }
      ]
    },
    {
      "cell_type": "code",
      "source": [
        "plt.plot(range(1, len(siniflandirici.hatalar) + 1), siniflandirici.hatalar)\n",
        "plt.xlabel('Deneme')\n",
        "plt.ylabel('Hatalı tahmin sayısı')\n",
        "plt.show()"
      ],
      "metadata": {
        "colab": {
          "base_uri": "https://localhost:8080/",
          "height": 279
        },
        "id": "R_4EIZEVXJpT",
        "outputId": "b5ddc997-5d66-49e1-9a51-654343841ae5"
      },
      "execution_count": 66,
      "outputs": [
        {
          "output_type": "display_data",
          "data": {
            "image/png": "[encoded data removed]",
            "text/plain": [
              "<Figure size 432x288 with 1 Axes>"
            ]
          },
          "metadata": {
            "needs_background": "light"
          }
        }
      ]
    },
    {
      "cell_type": "code",
      "source": [
        "#185260009 - EMİRHAN AKTAŞ"
      ],
      "metadata": {
        "id": "L4Dst_4mYGNH"
      },
      "execution_count": 64,
      "outputs": []
    }
  ]
}